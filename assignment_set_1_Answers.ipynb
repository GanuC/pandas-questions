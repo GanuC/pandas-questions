{
  "cells": [
    {
      "cell_type": "markdown",
      "id": "a86ef73d-5b21-49ad-bcd0-1e9df7b28f01",
      "metadata": {
        "id": "a86ef73d-5b21-49ad-bcd0-1e9df7b28f01"
      },
      "source": [
        "# Assignment Set 1 Answers - Introduction to Pandas"
      ]
    },
    {
      "cell_type": "code",
      "execution_count": 1,
      "id": "8decd9a3-473b-4a58-a97a-a02621a20525",
      "metadata": {
        "id": "8decd9a3-473b-4a58-a97a-a02621a20525"
      },
      "outputs": [],
      "source": [
        "import pandas as pd"
      ]
    },
    {
      "cell_type": "markdown",
      "id": "b2e18fd3-01fe-4a1f-937a-71ee6023f2d6",
      "metadata": {
        "id": "b2e18fd3-01fe-4a1f-937a-71ee6023f2d6",
        "tags": []
      },
      "source": [
        "### Q1. Create a pandas series from each of the items below: a list, numpy and a dictionary."
      ]
    },
    {
      "cell_type": "code",
      "execution_count": 2,
      "id": "a5ce5a0e-c104-422b-baca-929847867117",
      "metadata": {
        "id": "a5ce5a0e-c104-422b-baca-929847867117"
      },
      "outputs": [],
      "source": [
        "# Input\n",
        "import numpy as np\n",
        "mylist = list('abcedfghijklmnopqrstuvwxyz')\n",
        "myarr = np.arange(26)\n",
        "mydict = dict(zip(mylist, myarr))"
      ]
    },
    {
      "cell_type": "code",
      "source": [
        "mylist_ser = pd.Series(mylist)\n",
        "mylist_ser"
      ],
      "metadata": {
        "colab": {
          "base_uri": "https://localhost:8080/"
        },
        "id": "oh3lFiZUu9vj",
        "outputId": "2dc890b8-ce72-43f9-9bb8-de5b5a1e4945"
      },
      "id": "oh3lFiZUu9vj",
      "execution_count": 5,
      "outputs": [
        {
          "output_type": "execute_result",
          "data": {
            "text/plain": [
              "0     a\n",
              "1     b\n",
              "2     c\n",
              "3     e\n",
              "4     d\n",
              "5     f\n",
              "6     g\n",
              "7     h\n",
              "8     i\n",
              "9     j\n",
              "10    k\n",
              "11    l\n",
              "12    m\n",
              "13    n\n",
              "14    o\n",
              "15    p\n",
              "16    q\n",
              "17    r\n",
              "18    s\n",
              "19    t\n",
              "20    u\n",
              "21    v\n",
              "22    w\n",
              "23    x\n",
              "24    y\n",
              "25    z\n",
              "dtype: object"
            ]
          },
          "metadata": {},
          "execution_count": 5
        }
      ]
    },
    {
      "cell_type": "code",
      "source": [
        "myarr_ser = pd.Series(myarr)\n",
        "myarr_ser"
      ],
      "metadata": {
        "colab": {
          "base_uri": "https://localhost:8080/"
        },
        "id": "m2EkcYDpvRsM",
        "outputId": "2eb8b1ba-4a51-4400-cedc-dadf5d4dcdce"
      },
      "id": "m2EkcYDpvRsM",
      "execution_count": 6,
      "outputs": [
        {
          "output_type": "execute_result",
          "data": {
            "text/plain": [
              "0      0\n",
              "1      1\n",
              "2      2\n",
              "3      3\n",
              "4      4\n",
              "5      5\n",
              "6      6\n",
              "7      7\n",
              "8      8\n",
              "9      9\n",
              "10    10\n",
              "11    11\n",
              "12    12\n",
              "13    13\n",
              "14    14\n",
              "15    15\n",
              "16    16\n",
              "17    17\n",
              "18    18\n",
              "19    19\n",
              "20    20\n",
              "21    21\n",
              "22    22\n",
              "23    23\n",
              "24    24\n",
              "25    25\n",
              "dtype: int64"
            ]
          },
          "metadata": {},
          "execution_count": 6
        }
      ]
    },
    {
      "cell_type": "code",
      "source": [
        "mydict_ser = pd.Series(mydict)\n",
        "mylist_ser"
      ],
      "metadata": {
        "colab": {
          "base_uri": "https://localhost:8080/"
        },
        "id": "KpxBPn_GvdTD",
        "outputId": "35fc033c-e801-4fce-f067-e751d008db6d"
      },
      "id": "KpxBPn_GvdTD",
      "execution_count": 8,
      "outputs": [
        {
          "output_type": "execute_result",
          "data": {
            "text/plain": [
              "0     a\n",
              "1     b\n",
              "2     c\n",
              "3     e\n",
              "4     d\n",
              "5     f\n",
              "6     g\n",
              "7     h\n",
              "8     i\n",
              "9     j\n",
              "10    k\n",
              "11    l\n",
              "12    m\n",
              "13    n\n",
              "14    o\n",
              "15    p\n",
              "16    q\n",
              "17    r\n",
              "18    s\n",
              "19    t\n",
              "20    u\n",
              "21    v\n",
              "22    w\n",
              "23    x\n",
              "24    y\n",
              "25    z\n",
              "dtype: object"
            ]
          },
          "metadata": {},
          "execution_count": 8
        }
      ]
    },
    {
      "cell_type": "markdown",
      "id": "6e493261-23aa-49c1-aca6-858825f1f80a",
      "metadata": {
        "id": "6e493261-23aa-49c1-aca6-858825f1f80a"
      },
      "source": [
        "### Q2. Combine ser1 and ser2 to form a dataframe."
      ]
    },
    {
      "cell_type": "code",
      "execution_count": 3,
      "id": "530db975-612b-47e8-8e9e-b86dbb802f7e",
      "metadata": {
        "id": "530db975-612b-47e8-8e9e-b86dbb802f7e"
      },
      "outputs": [],
      "source": [
        "# Input\n",
        "ser1 = pd.Series(list('abcedfghijklmnopqrstuvwxyz'))\n",
        "ser2 = pd.Series(np.arange(26))"
      ]
    },
    {
      "cell_type": "code",
      "source": [
        "df = {\n",
        "    '1':ser1,\n",
        "    '2':ser2\n",
        "}\n",
        "df"
      ],
      "metadata": {
        "colab": {
          "base_uri": "https://localhost:8080/"
        },
        "id": "0pxsUJLHu5Ky",
        "outputId": "a3fc7d98-d8d4-44ac-f025-241d5a7bcf9f"
      },
      "id": "0pxsUJLHu5Ky",
      "execution_count": 10,
      "outputs": [
        {
          "output_type": "execute_result",
          "data": {
            "text/plain": [
              "{'1': 0     a\n",
              " 1     b\n",
              " 2     c\n",
              " 3     e\n",
              " 4     d\n",
              " 5     f\n",
              " 6     g\n",
              " 7     h\n",
              " 8     i\n",
              " 9     j\n",
              " 10    k\n",
              " 11    l\n",
              " 12    m\n",
              " 13    n\n",
              " 14    o\n",
              " 15    p\n",
              " 16    q\n",
              " 17    r\n",
              " 18    s\n",
              " 19    t\n",
              " 20    u\n",
              " 21    v\n",
              " 22    w\n",
              " 23    x\n",
              " 24    y\n",
              " 25    z\n",
              " dtype: object, '2': 0      0\n",
              " 1      1\n",
              " 2      2\n",
              " 3      3\n",
              " 4      4\n",
              " 5      5\n",
              " 6      6\n",
              " 7      7\n",
              " 8      8\n",
              " 9      9\n",
              " 10    10\n",
              " 11    11\n",
              " 12    12\n",
              " 13    13\n",
              " 14    14\n",
              " 15    15\n",
              " 16    16\n",
              " 17    17\n",
              " 18    18\n",
              " 19    19\n",
              " 20    20\n",
              " 21    21\n",
              " 22    22\n",
              " 23    23\n",
              " 24    24\n",
              " 25    25\n",
              " dtype: int64}"
            ]
          },
          "metadata": {},
          "execution_count": 10
        }
      ]
    },
    {
      "cell_type": "code",
      "source": [
        "import pandas as pd\n",
        "pd.DataFrame(df)"
      ],
      "metadata": {
        "colab": {
          "base_uri": "https://localhost:8080/",
          "height": 865
        },
        "id": "M81jn6jDv4AP",
        "outputId": "d49a228a-597e-4169-f2fc-7d2869dbd156"
      },
      "id": "M81jn6jDv4AP",
      "execution_count": 13,
      "outputs": [
        {
          "output_type": "execute_result",
          "data": {
            "text/plain": [
              "    1   2\n",
              "0   a   0\n",
              "1   b   1\n",
              "2   c   2\n",
              "3   e   3\n",
              "4   d   4\n",
              "5   f   5\n",
              "6   g   6\n",
              "7   h   7\n",
              "8   i   8\n",
              "9   j   9\n",
              "10  k  10\n",
              "11  l  11\n",
              "12  m  12\n",
              "13  n  13\n",
              "14  o  14\n",
              "15  p  15\n",
              "16  q  16\n",
              "17  r  17\n",
              "18  s  18\n",
              "19  t  19\n",
              "20  u  20\n",
              "21  v  21\n",
              "22  w  22\n",
              "23  x  23\n",
              "24  y  24\n",
              "25  z  25"
            ],
            "text/html": [
              "\n",
              "  <div id=\"df-fdc56b84-4a32-486d-89b8-ec05d30973ad\">\n",
              "    <div class=\"colab-df-container\">\n",
              "      <div>\n",
              "<style scoped>\n",
              "    .dataframe tbody tr th:only-of-type {\n",
              "        vertical-align: middle;\n",
              "    }\n",
              "\n",
              "    .dataframe tbody tr th {\n",
              "        vertical-align: top;\n",
              "    }\n",
              "\n",
              "    .dataframe thead th {\n",
              "        text-align: right;\n",
              "    }\n",
              "</style>\n",
              "<table border=\"1\" class=\"dataframe\">\n",
              "  <thead>\n",
              "    <tr style=\"text-align: right;\">\n",
              "      <th></th>\n",
              "      <th>1</th>\n",
              "      <th>2</th>\n",
              "    </tr>\n",
              "  </thead>\n",
              "  <tbody>\n",
              "    <tr>\n",
              "      <th>0</th>\n",
              "      <td>a</td>\n",
              "      <td>0</td>\n",
              "    </tr>\n",
              "    <tr>\n",
              "      <th>1</th>\n",
              "      <td>b</td>\n",
              "      <td>1</td>\n",
              "    </tr>\n",
              "    <tr>\n",
              "      <th>2</th>\n",
              "      <td>c</td>\n",
              "      <td>2</td>\n",
              "    </tr>\n",
              "    <tr>\n",
              "      <th>3</th>\n",
              "      <td>e</td>\n",
              "      <td>3</td>\n",
              "    </tr>\n",
              "    <tr>\n",
              "      <th>4</th>\n",
              "      <td>d</td>\n",
              "      <td>4</td>\n",
              "    </tr>\n",
              "    <tr>\n",
              "      <th>5</th>\n",
              "      <td>f</td>\n",
              "      <td>5</td>\n",
              "    </tr>\n",
              "    <tr>\n",
              "      <th>6</th>\n",
              "      <td>g</td>\n",
              "      <td>6</td>\n",
              "    </tr>\n",
              "    <tr>\n",
              "      <th>7</th>\n",
              "      <td>h</td>\n",
              "      <td>7</td>\n",
              "    </tr>\n",
              "    <tr>\n",
              "      <th>8</th>\n",
              "      <td>i</td>\n",
              "      <td>8</td>\n",
              "    </tr>\n",
              "    <tr>\n",
              "      <th>9</th>\n",
              "      <td>j</td>\n",
              "      <td>9</td>\n",
              "    </tr>\n",
              "    <tr>\n",
              "      <th>10</th>\n",
              "      <td>k</td>\n",
              "      <td>10</td>\n",
              "    </tr>\n",
              "    <tr>\n",
              "      <th>11</th>\n",
              "      <td>l</td>\n",
              "      <td>11</td>\n",
              "    </tr>\n",
              "    <tr>\n",
              "      <th>12</th>\n",
              "      <td>m</td>\n",
              "      <td>12</td>\n",
              "    </tr>\n",
              "    <tr>\n",
              "      <th>13</th>\n",
              "      <td>n</td>\n",
              "      <td>13</td>\n",
              "    </tr>\n",
              "    <tr>\n",
              "      <th>14</th>\n",
              "      <td>o</td>\n",
              "      <td>14</td>\n",
              "    </tr>\n",
              "    <tr>\n",
              "      <th>15</th>\n",
              "      <td>p</td>\n",
              "      <td>15</td>\n",
              "    </tr>\n",
              "    <tr>\n",
              "      <th>16</th>\n",
              "      <td>q</td>\n",
              "      <td>16</td>\n",
              "    </tr>\n",
              "    <tr>\n",
              "      <th>17</th>\n",
              "      <td>r</td>\n",
              "      <td>17</td>\n",
              "    </tr>\n",
              "    <tr>\n",
              "      <th>18</th>\n",
              "      <td>s</td>\n",
              "      <td>18</td>\n",
              "    </tr>\n",
              "    <tr>\n",
              "      <th>19</th>\n",
              "      <td>t</td>\n",
              "      <td>19</td>\n",
              "    </tr>\n",
              "    <tr>\n",
              "      <th>20</th>\n",
              "      <td>u</td>\n",
              "      <td>20</td>\n",
              "    </tr>\n",
              "    <tr>\n",
              "      <th>21</th>\n",
              "      <td>v</td>\n",
              "      <td>21</td>\n",
              "    </tr>\n",
              "    <tr>\n",
              "      <th>22</th>\n",
              "      <td>w</td>\n",
              "      <td>22</td>\n",
              "    </tr>\n",
              "    <tr>\n",
              "      <th>23</th>\n",
              "      <td>x</td>\n",
              "      <td>23</td>\n",
              "    </tr>\n",
              "    <tr>\n",
              "      <th>24</th>\n",
              "      <td>y</td>\n",
              "      <td>24</td>\n",
              "    </tr>\n",
              "    <tr>\n",
              "      <th>25</th>\n",
              "      <td>z</td>\n",
              "      <td>25</td>\n",
              "    </tr>\n",
              "  </tbody>\n",
              "</table>\n",
              "</div>\n",
              "      <button class=\"colab-df-convert\" onclick=\"convertToInteractive('df-fdc56b84-4a32-486d-89b8-ec05d30973ad')\"\n",
              "              title=\"Convert this dataframe to an interactive table.\"\n",
              "              style=\"display:none;\">\n",
              "        \n",
              "  <svg xmlns=\"http://www.w3.org/2000/svg\" height=\"24px\"viewBox=\"0 0 24 24\"\n",
              "       width=\"24px\">\n",
              "    <path d=\"M0 0h24v24H0V0z\" fill=\"none\"/>\n",
              "    <path d=\"M18.56 5.44l.94 2.06.94-2.06 2.06-.94-2.06-.94-.94-2.06-.94 2.06-2.06.94zm-11 1L8.5 8.5l.94-2.06 2.06-.94-2.06-.94L8.5 2.5l-.94 2.06-2.06.94zm10 10l.94 2.06.94-2.06 2.06-.94-2.06-.94-.94-2.06-.94 2.06-2.06.94z\"/><path d=\"M17.41 7.96l-1.37-1.37c-.4-.4-.92-.59-1.43-.59-.52 0-1.04.2-1.43.59L10.3 9.45l-7.72 7.72c-.78.78-.78 2.05 0 2.83L4 21.41c.39.39.9.59 1.41.59.51 0 1.02-.2 1.41-.59l7.78-7.78 2.81-2.81c.8-.78.8-2.07 0-2.86zM5.41 20L4 18.59l7.72-7.72 1.47 1.35L5.41 20z\"/>\n",
              "  </svg>\n",
              "      </button>\n",
              "      \n",
              "  <style>\n",
              "    .colab-df-container {\n",
              "      display:flex;\n",
              "      flex-wrap:wrap;\n",
              "      gap: 12px;\n",
              "    }\n",
              "\n",
              "    .colab-df-convert {\n",
              "      background-color: #E8F0FE;\n",
              "      border: none;\n",
              "      border-radius: 50%;\n",
              "      cursor: pointer;\n",
              "      display: none;\n",
              "      fill: #1967D2;\n",
              "      height: 32px;\n",
              "      padding: 0 0 0 0;\n",
              "      width: 32px;\n",
              "    }\n",
              "\n",
              "    .colab-df-convert:hover {\n",
              "      background-color: #E2EBFA;\n",
              "      box-shadow: 0px 1px 2px rgba(60, 64, 67, 0.3), 0px 1px 3px 1px rgba(60, 64, 67, 0.15);\n",
              "      fill: #174EA6;\n",
              "    }\n",
              "\n",
              "    [theme=dark] .colab-df-convert {\n",
              "      background-color: #3B4455;\n",
              "      fill: #D2E3FC;\n",
              "    }\n",
              "\n",
              "    [theme=dark] .colab-df-convert:hover {\n",
              "      background-color: #434B5C;\n",
              "      box-shadow: 0px 1px 3px 1px rgba(0, 0, 0, 0.15);\n",
              "      filter: drop-shadow(0px 1px 2px rgba(0, 0, 0, 0.3));\n",
              "      fill: #FFFFFF;\n",
              "    }\n",
              "  </style>\n",
              "\n",
              "      <script>\n",
              "        const buttonEl =\n",
              "          document.querySelector('#df-fdc56b84-4a32-486d-89b8-ec05d30973ad button.colab-df-convert');\n",
              "        buttonEl.style.display =\n",
              "          google.colab.kernel.accessAllowed ? 'block' : 'none';\n",
              "\n",
              "        async function convertToInteractive(key) {\n",
              "          const element = document.querySelector('#df-fdc56b84-4a32-486d-89b8-ec05d30973ad');\n",
              "          const dataTable =\n",
              "            await google.colab.kernel.invokeFunction('convertToInteractive',\n",
              "                                                     [key], {});\n",
              "          if (!dataTable) return;\n",
              "\n",
              "          const docLinkHtml = 'Like what you see? Visit the ' +\n",
              "            '<a target=\"_blank\" href=https://colab.research.google.com/notebooks/data_table.ipynb>data table notebook</a>'\n",
              "            + ' to learn more about interactive tables.';\n",
              "          element.innerHTML = '';\n",
              "          dataTable['output_type'] = 'display_data';\n",
              "          await google.colab.output.renderOutput(dataTable, element);\n",
              "          const docLink = document.createElement('div');\n",
              "          docLink.innerHTML = docLinkHtml;\n",
              "          element.appendChild(docLink);\n",
              "        }\n",
              "      </script>\n",
              "    </div>\n",
              "  </div>\n",
              "  "
            ]
          },
          "metadata": {},
          "execution_count": 13
        }
      ]
    },
    {
      "cell_type": "code",
      "source": [
        ""
      ],
      "metadata": {
        "id": "jtc_G6kQwTIV"
      },
      "id": "jtc_G6kQwTIV",
      "execution_count": null,
      "outputs": []
    }
  ],
  "metadata": {
    "colab": {
      "collapsed_sections": [],
      "name": "assignment_set_1_Answers.ipynb",
      "provenance": []
    },
    "kernelspec": {
      "display_name": "Python 3",
      "language": "python",
      "name": "python3"
    },
    "language_info": {
      "codemirror_mode": {
        "name": "ipython",
        "version": 3
      },
      "file_extension": ".py",
      "mimetype": "text/x-python",
      "name": "python",
      "nbconvert_exporter": "python",
      "pygments_lexer": "ipython3",
      "version": "3.8.8"
    }
  },
  "nbformat": 4,
  "nbformat_minor": 5
}